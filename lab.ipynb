{
 "cells": [
  {
   "cell_type": "code",
   "execution_count": 7,
   "metadata": {},
   "outputs": [],
   "source": [
    "import numpy as np\n",
    "import matplotlib.pyplot as plt\n",
    "from tqdm import tqdm\n",
    "from numba import njit"
   ]
  },
  {
   "cell_type": "code",
   "execution_count": 8,
   "metadata": {},
   "outputs": [],
   "source": [
    "@njit\n",
    "def single_walk(N:int, dim:int, time:int):\n",
    "    X = np.zeros(shape=(N, dim), dtype=np.int64)\n",
    "    _vectors = np.concatenate((np.eye(dim, dtype=np.int8), -np.eye(dim, dtype=np.int8)))\n",
    "    for _ in range(time):\n",
    "        _vec_idxs = np.empty(N, dtype=np.int8)\n",
    "        for n in range(N):\n",
    "            _vec_idxs[n] = np.random.randint(0, 2*dim)\n",
    "        V = _vectors[_vec_idxs]\n",
    "        X += V\n",
    "\n",
    "    return X"
   ]
  },
  {
   "cell_type": "code",
   "execution_count": 9,
   "metadata": {},
   "outputs": [],
   "source": [
    "import itertools\n",
    "\n",
    "def pair_walk(N:int, dim:int, time:int):\n",
    "    X = single_walk(N, dim, time)\n",
    "    D = []\n",
    "    for i, j in itertools.combinations(range(N), 2):\n",
    "        D.append(np.linalg.norm(X[i] - X[j]))\n",
    "    return D"
   ]
  },
  {
   "cell_type": "code",
   "execution_count": 10,
   "metadata": {},
   "outputs": [],
   "source": [
    "@njit\n",
    "def return_walk(N:int, dim:int, max_time:int):\n",
    "    RET = np.zeros(N, dtype=np.int8)\n",
    "    _vectors = np.concatenate((np.eye(dim, dtype=np.int8), -np.eye(dim, dtype=np.int8)))\n",
    "    for n in range(N):\n",
    "        X = np.zeros(dim, dtype=np.int64)\n",
    "        for _ in range(max_time):\n",
    "            _vec_idx = np.random.randint(2*dim)\n",
    "            V = _vectors[_vec_idx]\n",
    "            X += V\n",
    "            if np.all(X == 0):\n",
    "                RET[n] = 1\n",
    "                break\n",
    "    return RET"
   ]
  },
  {
   "cell_type": "code",
   "execution_count": 25,
   "metadata": {},
   "outputs": [],
   "source": [
    "for d in range(1, 5):\n",
    "    RET = return_walk(10000, d, 20000000)\n",
    "    print('Returned:', RET.sum()/len(RET))"
   ]
  },
  {
   "cell_type": "code",
   "execution_count": 18,
   "metadata": {},
   "outputs": [
    {
     "data": {
      "text/plain": [
       "(array([1.71041195e-05, 2.22353553e-04, 7.35477138e-04, 1.45385016e-03,\n",
       "        2.61693028e-03, 3.91684336e-03, 5.42200587e-03, 6.72191896e-03,\n",
       "        6.87585603e-03, 7.76527024e-03, 7.83368672e-03, 7.69685377e-03,\n",
       "        6.72191896e-03, 6.24300361e-03, 4.66942462e-03, 4.10498867e-03,\n",
       "        3.48924037e-03, 2.90770031e-03, 1.50516251e-03, 1.28280896e-03,\n",
       "        1.00914305e-03, 4.78915345e-04, 3.07874151e-04, 2.90770031e-04,\n",
       "        1.36832956e-04, 1.19728836e-04, 5.13123584e-05, 5.13123584e-05,\n",
       "        0.00000000e+00, 1.71041195e-05]),\n",
       " array([  4.69041576,  16.50161728,  28.3128188 ,  40.12402033,\n",
       "         51.93522185,  63.74642337,  75.55762489,  87.36882641,\n",
       "         99.18002794, 110.99122946, 122.80243098, 134.6136325 ,\n",
       "        146.42483402, 158.23603555, 170.04723707, 181.85843859,\n",
       "        193.66964011, 205.48084163, 217.29204316, 229.10324468,\n",
       "        240.9144462 , 252.72564772, 264.53684924, 276.34805077,\n",
       "        288.15925229, 299.97045381, 311.78165533, 323.59285685,\n",
       "        335.40405838, 347.2152599 , 359.02646142]),\n",
       " <BarContainer object of 30 artists>)"
      ]
     },
     "execution_count": 18,
     "metadata": {},
     "output_type": "execute_result"
    },
    {
     "data": {
      "image/png": "[encoded data removed]",
      "text/plain": [
       "<Figure size 640x480 with 1 Axes>"
      ]
     },
     "metadata": {},
     "output_type": "display_data"
    }
   ],
   "source": [
    "D = pair_walk(100, 4, 10000)\n",
    "plt.hist(D, bins=30, density=True)\n"
   ]
  },
  {
   "cell_type": "code",
   "execution_count": 13,
   "metadata": {},
   "outputs": [],
   "source": [
    "RET = single_walk(10000, 1, 10000)"
   ]
  },
  {
   "cell_type": "code",
   "execution_count": 14,
   "metadata": {},
   "outputs": [
    {
     "data": {
      "text/plain": [
       "9900"
      ]
     },
     "execution_count": 14,
     "metadata": {},
     "output_type": "execute_result"
    }
   ],
   "source": []
  }
 ],
 "metadata": {
  "kernelspec": {
   "display_name": "base",
   "language": "python",
   "name": "python3"
  },
  "language_info": {
   "codemirror_mode": {
    "name": "ipython",
    "version": 3
   },
   "file_extension": ".py",
   "mimetype": "text/x-python",
   "name": "python",
   "nbconvert_exporter": "python",
   "pygments_lexer": "ipython3",
   "version": "3.11.8"
  }
 },
 "nbformat": 4,
 "nbformat_minor": 2
}
